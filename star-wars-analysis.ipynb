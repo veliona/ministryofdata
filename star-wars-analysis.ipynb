{
 "cells": [
  {
   "cell_type": "code",
   "execution_count": null,
   "metadata": {},
   "outputs": [],
   "source": [
    "#Imports\n",
    "import pandas as pd\n",
    "import matplotlib.pyplot as plt\n",
    "import seaborn as sns\n",
    "import warnings\n",
    "from math import pi\n",
    "import matplotlib.colors as mcolors\n",
    "from scipy import stats\n",
    "\n",
    "from csv import reader\n",
    "import pandas as pd\n",
    "import matplotlib.dates as mdates\n",
    "import numpy as np\n",
    "from pathlib import Path\n",
    "from pandas.plotting import register_matplotlib_converters\n",
    "register_matplotlib_converters()\n",
    "from pysankey import sankey\n",
    "\n",
    "from scipy.stats import shapiro\n",
    "from scipy.stats import ttest_ind\n",
    "from scipy.stats import f\n",
    "\n",
    "# Google Play Store data set\n",
    "android = open('googleplaystore.csv')\n",
    "df_android = pd.read_csv('googleplaystore.csv')\n",
    "\n",
    "# Apple Store data set\n",
    "ios = open('AppleStore.csv')\n",
    "df_ios = pd.read_csv('AppleStore.csv')\n",
    "\n",
    "\n",
    "sns.set()"
   ]
  }
 ],
 "metadata": {
  "kernelspec": {
   "display_name": "Python 3",
   "language": "python",
   "name": "python3"
  },
  "language_info": {
   "codemirror_mode": {
    "name": "ipython",
    "version": 3
   },
   "file_extension": ".py",
   "mimetype": "text/x-python",
   "name": "python",
   "nbconvert_exporter": "python",
   "pygments_lexer": "ipython3",
   "version": "3.7.4"
  }
 },
 "nbformat": 4,
 "nbformat_minor": 2
}
